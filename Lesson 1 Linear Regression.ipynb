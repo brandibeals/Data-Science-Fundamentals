{
 "cells": [
  {
   "cell_type": "markdown",
   "metadata": {},
   "source": [
    "# Data Science Fundamentals\n",
    "## Lesson 1: Linear Regression\n",
    "Last Updated on August 17, 2021  |  Created by Brandi Beals\n",
    "\n",
    "Linear **regression** is a machine learning technique that is part of the **supervised** category. This category requires labeled data, which means the data set used to train a model contains examples the model can learn from. Typically labeled data is historical in nature where the answers are already known. Our goal is to use this historical knowledge and create a model that can accurately predict what the label will be for data the model hasn't seen before."
   ]
  },
  {
   "cell_type": "markdown",
   "metadata": {},
   "source": [
    "![Types of Machine Learning](https://www.kindpng.com/picc/m/158-1585451_coding-deep-learning-for-beginners-machine-learning-algorithms.png)"
   ]
  },
  {
   "cell_type": "markdown",
   "metadata": {},
   "source": [
    "In a data set used for supervised learning, there are **independent variables** that we hope will do a relatively good job at predicting our labeled **dependent variable**. A regression problem focuses on predicting a numerical value that could exist anywhere along the spectrum (i.e. numbers with precise decimals). Futher, a linear regression assumes a linear relationship (as opposed to a non-linear relationship) between the independent and dependent variables, which determines the type of math used behind the scenes.\n",
    "\n",
    "The math (i.e. algorithms) used to train a model relies on a variety of assumptions. Ensuring these assumptions are met is one of the most important things you must do. In this lesson we will follow a standard machine learning process:\n",
    "- [Data Wrangling](#Data-Wrangling)\n",
    "- [Exploratory Data Analysis](#Exploratory-Data-Analysis)\n",
    "- [Featuring Engineering](#Featuring-Engineering)\n",
    "- \n",
    "- [Resources](#Resources)"
   ]
  },
  {
   "cell_type": "markdown",
   "metadata": {},
   "source": [
    "### Import Packages"
   ]
  },
  {
   "cell_type": "code",
   "execution_count": null,
   "metadata": {},
   "outputs": [],
   "source": []
  },
  {
   "cell_type": "markdown",
   "metadata": {},
   "source": [
    "### Data Wrangling\n",
    "- get the data (size and shape)\n",
    "- understand the features (units of measurement, descriptive statistics)\n",
    "- clean the data if needed (feature names, data types)\n",
    "- transform into a different shape if needed (reshaping)"
   ]
  },
  {
   "cell_type": "code",
   "execution_count": null,
   "metadata": {},
   "outputs": [],
   "source": []
  },
  {
   "cell_type": "markdown",
   "metadata": {},
   "source": [
    "### Exploratory Data Analysis\n",
    "- visualize data (boxplot, distribution plots)\n",
    "- identify relationships (scatterplot, pairs plot)\n",
    "- test for multicollinearity (correlation plot, variance inflation factor)\n",
    "- test for linear relationship (t-test, ANOVA)"
   ]
  },
  {
   "cell_type": "code",
   "execution_count": null,
   "metadata": {},
   "outputs": [],
   "source": []
  },
  {
   "cell_type": "markdown",
   "metadata": {},
   "source": [
    "### Feature Engineering\n",
    "- create new features that might be valuable\n",
    "- transform features if needed (one-hot encoding, log transformation)\n",
    "- scale data (normalization, standardization)\n",
    "- handle dirty data (outliers, missing values)"
   ]
  },
  {
   "cell_type": "code",
   "execution_count": null,
   "metadata": {},
   "outputs": [],
   "source": []
  },
  {
   "cell_type": "markdown",
   "metadata": {},
   "source": [
    "### Split Data\n",
    "- divide the data set into a training set and testing set (70/30)\n",
    "- separate independent and dependent variables"
   ]
  },
  {
   "cell_type": "code",
   "execution_count": null,
   "metadata": {},
   "outputs": [],
   "source": []
  },
  {
   "cell_type": "markdown",
   "metadata": {},
   "source": [
    "### Create Model\n",
    "- use only training data on this step\n",
    "- fit a benchmark model to improve upon with iterations"
   ]
  },
  {
   "cell_type": "code",
   "execution_count": null,
   "metadata": {},
   "outputs": [],
   "source": []
  },
  {
   "cell_type": "markdown",
   "metadata": {},
   "source": [
    "### Make Predictions\n",
    "- use only testing data on this step\n",
    "- make predictions using the model"
   ]
  },
  {
   "cell_type": "code",
   "execution_count": null,
   "metadata": {},
   "outputs": [],
   "source": []
  },
  {
   "cell_type": "markdown",
   "metadata": {},
   "source": [
    "### Evaluate Performance\n",
    "- calculate error metrics (MAE, MSE, RMSE, MAPE)\n",
    "- calculate model comparison metrics (AIC, BIC, R2)\n",
    "- visualize residual plot (Q-Q plot, histogram of errors)"
   ]
  },
  {
   "cell_type": "code",
   "execution_count": null,
   "metadata": {},
   "outputs": [],
   "source": []
  },
  {
   "cell_type": "markdown",
   "metadata": {},
   "source": [
    "### Resources\n",
    "The following webpages will help further your knowledge and understanding of linear regression.\n",
    "\n",
    "https://www.ibm.com/cloud/learn/data-labeling\n",
    "\n",
    "https://towardsdatascience.com/a-checklist-for-linear-regression-bd7b3e47ea91\n",
    "\n",
    "https://towardsdatascience.com/machine-learning-algorithms-in-laymans-terms-part-1-d0368d769a7b\n",
    "\n",
    "https://www.khanacademy.org/math/statistics-probability/describing-relationships-quantitative-data/introduction-to-trend-lines/v/fitting-a-line-to-data\n",
    "\n",
    "https://www.unite.ai/what-is-linear-regression/\n",
    "\n",
    "https://machinelearningmastery.com/simple-linear-regression-tutorial-for-machine-learning/\n",
    "\n",
    "https://learn.datacamp.com/courses/introduction-to-linear-modeling-in-python"
   ]
  }
 ],
 "metadata": {
  "celltoolbar": "Raw Cell Format",
  "kernelspec": {
   "display_name": "Python 3",
   "language": "python",
   "name": "python3"
  },
  "language_info": {
   "codemirror_mode": {
    "name": "ipython",
    "version": 3
   },
   "file_extension": ".py",
   "mimetype": "text/x-python",
   "name": "python",
   "nbconvert_exporter": "python",
   "pygments_lexer": "ipython3",
   "version": "3.7.3"
  }
 },
 "nbformat": 4,
 "nbformat_minor": 2
}
