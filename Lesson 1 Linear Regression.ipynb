{
 "cells": [
  {
   "cell_type": "markdown",
   "metadata": {},
   "source": [
    "# Data Science Fundamentals\n",
    "## Lesson 1: Linear Regression\n",
    "Last Updated on August 17, 2021  |  Created by Brandi Beals\n",
    "\n",
    "Linear **regression** is a machine learning technique that is part of the **supervised** category. This category requires labeled data, which means the data set used to train a model contains examples the model can learn from. Typically labeled data is historical in nature where the answers are already known. Our goal is to use this historical knowledge and create a model that can accurately predict what the label will be for data the model hasn't seen before."
   ]
  },
  {
   "cell_type": "markdown",
   "metadata": {},
   "source": [
    "![Types of Machine Learning](https://www.kindpng.com/picc/m/158-1585451_coding-deep-learning-for-beginners-machine-learning-algorithms.png)"
   ]
  },
  {
   "cell_type": "markdown",
   "metadata": {},
   "source": [
    "In a data set used for supervised learning, there are **independent variables** that we hope will do a relatively good job at predicting our labeled **dependent variable**. A regression problem focuses on predicting a numerical value that could exist anywhere along the spectrum (i.e. numbers with precise decimals). Futher, a linear regression assumes a linear relationship (as opposed to a non-linear relationship) between the independent and dependent variables, which determines the type of math used behind the scenes.\n",
    "\n",
    "The math (i.e. algorithms) used to train a model relies on a variety of assumptions. Ensuring these assumptions are met is one of the most important things you must do. In this lesson we will follow a standard machine learning process:\n",
    "- [Data Wrangling](#Data-Wrangling)\n",
    "- [Exploratory Data Analysis](#Exploratory-Data-Analysis)\n",
    "- [Featuring Engineering](#Featuring-Engineering)\n",
    "- [Split Data](#Split-Data)\n",
    "- [Create model](#Create-Model)\n",
    "- [Make Predictions](#Make-Predictions)\n",
    "- [Evaluate Performance](#Evaluate-Performance)"
   ]
  },
  {
   "cell_type": "markdown",
   "metadata": {},
   "source": [
    "### Import Packages"
   ]
  },
  {
   "cell_type": "code",
   "execution_count": 58,
   "metadata": {},
   "outputs": [],
   "source": [
    "import yfinance as yf                        # https://pypi.org/project/yfinance/\n",
    "import pandas_datareader as pdr              # https://pandas-datareader.readthedocs.io/en/latest/\n",
    "import pandas as pd\n",
    "import matplotlib.pyplot as plt\n",
    "import seaborn as sns"
   ]
  },
  {
   "cell_type": "markdown",
   "metadata": {},
   "source": [
    "### Data Wrangling\n",
    "- get the data (size and shape)\n",
    "- understand the features (units of measurement, descriptive statistics)\n",
    "- clean the data if needed (feature names, data types)\n",
    "- transform into a different shape if needed (reshaping)"
   ]
  },
  {
   "cell_type": "code",
   "execution_count": 46,
   "metadata": {},
   "outputs": [
    {
     "name": "stdout",
     "output_type": "stream",
     "text": [
      "(712, 7)\n"
     ]
    },
    {
     "data": {
      "text/html": [
       "<div>\n",
       "<style scoped>\n",
       "    .dataframe tbody tr th:only-of-type {\n",
       "        vertical-align: middle;\n",
       "    }\n",
       "\n",
       "    .dataframe tbody tr th {\n",
       "        vertical-align: top;\n",
       "    }\n",
       "\n",
       "    .dataframe thead th {\n",
       "        text-align: right;\n",
       "    }\n",
       "</style>\n",
       "<table border=\"1\" class=\"dataframe\">\n",
       "  <thead>\n",
       "    <tr style=\"text-align: right;\">\n",
       "      <th></th>\n",
       "      <th>Open</th>\n",
       "      <th>High</th>\n",
       "      <th>Low</th>\n",
       "      <th>Close</th>\n",
       "      <th>Adj Close</th>\n",
       "      <th>Volume</th>\n",
       "      <th>Ticker</th>\n",
       "    </tr>\n",
       "    <tr>\n",
       "      <th>Date</th>\n",
       "      <th></th>\n",
       "      <th></th>\n",
       "      <th></th>\n",
       "      <th></th>\n",
       "      <th></th>\n",
       "      <th></th>\n",
       "      <th></th>\n",
       "    </tr>\n",
       "  </thead>\n",
       "  <tbody>\n",
       "    <tr>\n",
       "      <th>2018-01-02</th>\n",
       "      <td>1172.000000</td>\n",
       "      <td>1190.000000</td>\n",
       "      <td>1170.510010</td>\n",
       "      <td>1189.010010</td>\n",
       "      <td>1189.010010</td>\n",
       "      <td>2694500</td>\n",
       "      <td>AMZN</td>\n",
       "    </tr>\n",
       "    <tr>\n",
       "      <th>2018-01-03</th>\n",
       "      <td>1188.300049</td>\n",
       "      <td>1205.489990</td>\n",
       "      <td>1188.300049</td>\n",
       "      <td>1204.199951</td>\n",
       "      <td>1204.199951</td>\n",
       "      <td>3108800</td>\n",
       "      <td>AMZN</td>\n",
       "    </tr>\n",
       "    <tr>\n",
       "      <th>2018-01-04</th>\n",
       "      <td>1205.000000</td>\n",
       "      <td>1215.869995</td>\n",
       "      <td>1204.660034</td>\n",
       "      <td>1209.589966</td>\n",
       "      <td>1209.589966</td>\n",
       "      <td>3022100</td>\n",
       "      <td>AMZN</td>\n",
       "    </tr>\n",
       "    <tr>\n",
       "      <th>2018-01-05</th>\n",
       "      <td>1217.510010</td>\n",
       "      <td>1229.140015</td>\n",
       "      <td>1210.000000</td>\n",
       "      <td>1229.140015</td>\n",
       "      <td>1229.140015</td>\n",
       "      <td>3544700</td>\n",
       "      <td>AMZN</td>\n",
       "    </tr>\n",
       "    <tr>\n",
       "      <th>2018-01-08</th>\n",
       "      <td>1236.000000</td>\n",
       "      <td>1253.079956</td>\n",
       "      <td>1232.030029</td>\n",
       "      <td>1246.869995</td>\n",
       "      <td>1246.869995</td>\n",
       "      <td>4279500</td>\n",
       "      <td>AMZN</td>\n",
       "    </tr>\n",
       "  </tbody>\n",
       "</table>\n",
       "</div>"
      ],
      "text/plain": [
       "                   Open         High          Low        Close    Adj Close  \\\n",
       "Date                                                                          \n",
       "2018-01-02  1172.000000  1190.000000  1170.510010  1189.010010  1189.010010   \n",
       "2018-01-03  1188.300049  1205.489990  1188.300049  1204.199951  1204.199951   \n",
       "2018-01-04  1205.000000  1215.869995  1204.660034  1209.589966  1209.589966   \n",
       "2018-01-05  1217.510010  1229.140015  1210.000000  1229.140015  1229.140015   \n",
       "2018-01-08  1236.000000  1253.079956  1232.030029  1246.869995  1246.869995   \n",
       "\n",
       "             Volume Ticker  \n",
       "Date                        \n",
       "2018-01-02  2694500   AMZN  \n",
       "2018-01-03  3108800   AMZN  \n",
       "2018-01-04  3022100   AMZN  \n",
       "2018-01-05  3544700   AMZN  \n",
       "2018-01-08  4279500   AMZN  "
      ]
     },
     "execution_count": 46,
     "metadata": {},
     "output_type": "execute_result"
    }
   ],
   "source": [
    "# Amazon Stock Price and Volume\n",
    "# this package is currently experiencing an issue\n",
    "# fin = yf.download(\"AMZN\", start='2018-01-02', end='2020-10-28')\n",
    "\n",
    "amzn = pd.read_csv('Prices_AMZN.csv')        # read in csv file since we can't get programmatically (bummer)\n",
    "amzn['Date'] = pd.to_datetime(amzn['Date'])  # convert Date column to an actual DateTime data type\n",
    "amzn = amzn.set_index('Date')                # set Date column as index\n",
    "print(amzn.shape)                            # understand the shape of this dataframe (rows x columns)\n",
    "amzn.head()                                  # view the first few rows of data"
   ]
  },
  {
   "cell_type": "code",
   "execution_count": 49,
   "metadata": {},
   "outputs": [
    {
     "name": "stdout",
     "output_type": "stream",
     "text": [
      "              Open    High         Low       Close   Adj Close   Volume Ticker\n",
      "Date                                                                          \n",
      "2018-01-02  1172.0  1190.0  1170.51001  1189.01001  1189.01001  2694500   AMZN\n",
      "                   Open        High          Low        Close    Adj Close  \\\n",
      "Date                                                                         \n",
      "2020-10-28  3249.300049  3264.02002  3162.469971  3162.780029  3162.780029   \n",
      "\n",
      "             Volume Ticker  \n",
      "Date                        \n",
      "2020-10-28  5588300   AMZN  \n",
      "              Open         High          Low        Close    Adj Close  \\\n",
      "count   712.000000   712.000000   712.000000   712.000000   712.000000   \n",
      "mean   1969.124102  1991.580660  1943.836798  1968.780154  1968.780154   \n",
      "std     514.032337   522.356915   503.879182   512.847289   512.847289   \n",
      "min    1172.000000  1190.000000  1170.510010  1189.010010  1189.010010   \n",
      "25%    1670.687500  1689.852478  1642.250000  1665.530029  1665.530029   \n",
      "50%    1817.929993  1830.075012  1800.494995  1816.794983  1816.794983   \n",
      "75%    1993.429993  2001.224976  1962.282471  1988.692535  1988.692535   \n",
      "max    3547.000000  3552.250000  3486.689941  3531.449951  3531.449951   \n",
      "\n",
      "             Volume  \n",
      "count  7.120000e+02  \n",
      "mean   4.855103e+06  \n",
      "std    2.233862e+06  \n",
      "min    8.813000e+05  \n",
      "25%    3.185675e+06  \n",
      "50%    4.327100e+06  \n",
      "75%    5.836650e+06  \n",
      "max    1.556730e+07  \n"
     ]
    }
   ],
   "source": [
    "print(amzn.first('1D'))                      # view first date in data set (take note of minimum date)\n",
    "print(amzn.last('1D'))                       # view last date in data set (take note of maximum date)\n",
    "print(amzn.describe(include=['number']))     # get summary statistics for all numeric fields (look for oddities)"
   ]
  },
  {
   "cell_type": "code",
   "execution_count": 20,
   "metadata": {},
   "outputs": [
    {
     "name": "stdout",
     "output_type": "stream",
     "text": [
      "(1300, 1)\n"
     ]
    },
    {
     "data": {
      "text/html": [
       "<div>\n",
       "<style scoped>\n",
       "    .dataframe tbody tr th:only-of-type {\n",
       "        vertical-align: middle;\n",
       "    }\n",
       "\n",
       "    .dataframe tbody tr th {\n",
       "        vertical-align: top;\n",
       "    }\n",
       "\n",
       "    .dataframe thead th {\n",
       "        text-align: right;\n",
       "    }\n",
       "</style>\n",
       "<table border=\"1\" class=\"dataframe\">\n",
       "  <thead>\n",
       "    <tr style=\"text-align: right;\">\n",
       "      <th></th>\n",
       "      <th>Exchange Rate</th>\n",
       "    </tr>\n",
       "    <tr>\n",
       "      <th>DATE</th>\n",
       "      <th></th>\n",
       "    </tr>\n",
       "  </thead>\n",
       "  <tbody>\n",
       "    <tr>\n",
       "      <th>2016-08-22</th>\n",
       "      <td>1.1314</td>\n",
       "    </tr>\n",
       "    <tr>\n",
       "      <th>2016-08-23</th>\n",
       "      <td>1.1308</td>\n",
       "    </tr>\n",
       "    <tr>\n",
       "      <th>2016-08-24</th>\n",
       "      <td>1.1256</td>\n",
       "    </tr>\n",
       "    <tr>\n",
       "      <th>2016-08-25</th>\n",
       "      <td>1.1274</td>\n",
       "    </tr>\n",
       "    <tr>\n",
       "      <th>2016-08-26</th>\n",
       "      <td>1.1237</td>\n",
       "    </tr>\n",
       "  </tbody>\n",
       "</table>\n",
       "</div>"
      ],
      "text/plain": [
       "            Exchange Rate\n",
       "DATE                     \n",
       "2016-08-22         1.1314\n",
       "2016-08-23         1.1308\n",
       "2016-08-24         1.1256\n",
       "2016-08-25         1.1274\n",
       "2016-08-26         1.1237"
      ]
     },
     "execution_count": 20,
     "metadata": {},
     "output_type": "execute_result"
    }
   ],
   "source": [
    "# US/Euro Exchange Rate\n",
    "# https://fred.stlouisfed.org/series/DEXUSEU\n",
    "mkt = pdr.get_data_fred('DEXUSEU')           # get data from API\n",
    "mkt.columns = ['Exchange Rate']              # rename column so it makes sense\n",
    "print(mkt.shape)                             # understand the shape of this dataframe\n",
    "mkt.head()                                   # view the first few rows of data"
   ]
  },
  {
   "cell_type": "code",
   "execution_count": 57,
   "metadata": {},
   "outputs": [
    {
     "name": "stdout",
     "output_type": "stream",
     "text": [
      "            Exchange Rate\n",
      "DATE                     \n",
      "2016-08-22         1.1314\n",
      "            Exchange Rate\n",
      "DATE                     \n",
      "2021-08-13         1.1796\n",
      "       Exchange Rate\n",
      "count    1242.000000\n",
      "mean        1.146482\n",
      "std         0.048324\n",
      "min         1.037500\n",
      "25%         1.111700\n",
      "50%         1.139900\n",
      "75%         1.183175\n",
      "max         1.248800\n"
     ]
    }
   ],
   "source": [
    "print(mkt.first('1D'))                       # view first date in data set (take note of minimum date)\n",
    "print(mkt.last('1D'))                        # view last date in data set (take note of maximum date)\n",
    "print(mkt.describe(include=['number']))      # get summary statistics for all numeric fields (look for oddities)"
   ]
  },
  {
   "cell_type": "code",
   "execution_count": 55,
   "metadata": {},
   "outputs": [
    {
     "data": {
      "text/html": [
       "<div>\n",
       "<style scoped>\n",
       "    .dataframe tbody tr th:only-of-type {\n",
       "        vertical-align: middle;\n",
       "    }\n",
       "\n",
       "    .dataframe tbody tr th {\n",
       "        vertical-align: top;\n",
       "    }\n",
       "\n",
       "    .dataframe thead th {\n",
       "        text-align: right;\n",
       "    }\n",
       "</style>\n",
       "<table border=\"1\" class=\"dataframe\">\n",
       "  <thead>\n",
       "    <tr style=\"text-align: right;\">\n",
       "      <th></th>\n",
       "      <th>Open</th>\n",
       "      <th>High</th>\n",
       "      <th>Low</th>\n",
       "      <th>Close</th>\n",
       "      <th>Adj Close</th>\n",
       "      <th>Volume</th>\n",
       "      <th>Ticker</th>\n",
       "      <th>Exchange Rate</th>\n",
       "    </tr>\n",
       "  </thead>\n",
       "  <tbody>\n",
       "    <tr>\n",
       "      <th>2018-01-02</th>\n",
       "      <td>1172.000000</td>\n",
       "      <td>1190.000000</td>\n",
       "      <td>1170.510010</td>\n",
       "      <td>1189.010010</td>\n",
       "      <td>1189.010010</td>\n",
       "      <td>2694500</td>\n",
       "      <td>AMZN</td>\n",
       "      <td>1.2050</td>\n",
       "    </tr>\n",
       "    <tr>\n",
       "      <th>2018-01-03</th>\n",
       "      <td>1188.300049</td>\n",
       "      <td>1205.489990</td>\n",
       "      <td>1188.300049</td>\n",
       "      <td>1204.199951</td>\n",
       "      <td>1204.199951</td>\n",
       "      <td>3108800</td>\n",
       "      <td>AMZN</td>\n",
       "      <td>1.2030</td>\n",
       "    </tr>\n",
       "    <tr>\n",
       "      <th>2018-01-04</th>\n",
       "      <td>1205.000000</td>\n",
       "      <td>1215.869995</td>\n",
       "      <td>1204.660034</td>\n",
       "      <td>1209.589966</td>\n",
       "      <td>1209.589966</td>\n",
       "      <td>3022100</td>\n",
       "      <td>AMZN</td>\n",
       "      <td>1.2064</td>\n",
       "    </tr>\n",
       "    <tr>\n",
       "      <th>2018-01-05</th>\n",
       "      <td>1217.510010</td>\n",
       "      <td>1229.140015</td>\n",
       "      <td>1210.000000</td>\n",
       "      <td>1229.140015</td>\n",
       "      <td>1229.140015</td>\n",
       "      <td>3544700</td>\n",
       "      <td>AMZN</td>\n",
       "      <td>1.2039</td>\n",
       "    </tr>\n",
       "    <tr>\n",
       "      <th>2018-01-08</th>\n",
       "      <td>1236.000000</td>\n",
       "      <td>1253.079956</td>\n",
       "      <td>1232.030029</td>\n",
       "      <td>1246.869995</td>\n",
       "      <td>1246.869995</td>\n",
       "      <td>4279500</td>\n",
       "      <td>AMZN</td>\n",
       "      <td>1.1973</td>\n",
       "    </tr>\n",
       "  </tbody>\n",
       "</table>\n",
       "</div>"
      ],
      "text/plain": [
       "                   Open         High          Low        Close    Adj Close  \\\n",
       "2018-01-02  1172.000000  1190.000000  1170.510010  1189.010010  1189.010010   \n",
       "2018-01-03  1188.300049  1205.489990  1188.300049  1204.199951  1204.199951   \n",
       "2018-01-04  1205.000000  1215.869995  1204.660034  1209.589966  1209.589966   \n",
       "2018-01-05  1217.510010  1229.140015  1210.000000  1229.140015  1229.140015   \n",
       "2018-01-08  1236.000000  1253.079956  1232.030029  1246.869995  1246.869995   \n",
       "\n",
       "             Volume Ticker  Exchange Rate  \n",
       "2018-01-02  2694500   AMZN         1.2050  \n",
       "2018-01-03  3108800   AMZN         1.2030  \n",
       "2018-01-04  3022100   AMZN         1.2064  \n",
       "2018-01-05  3544700   AMZN         1.2039  \n",
       "2018-01-08  4279500   AMZN         1.1973  "
      ]
     },
     "execution_count": 55,
     "metadata": {},
     "output_type": "execute_result"
    }
   ],
   "source": [
    "data = amzn.merge(mkt, how='inner', left_index=True, right_index=True)  # join the two tables together\n",
    "data.head()                                                             # view the first few rows of data"
   ]
  },
  {
   "cell_type": "markdown",
   "metadata": {},
   "source": [
    "### Exploratory Data Analysis\n",
    "- visualize data (boxplot, distribution plots)\n",
    "- identify relationships (scatterplot, pairs plot)\n",
    "- test for multicollinearity (correlation plot, variance inflation factor)\n",
    "- test for linear relationship (t-test, ANOVA)"
   ]
  },
  {
   "cell_type": "code",
   "execution_count": null,
   "metadata": {},
   "outputs": [],
   "source": []
  },
  {
   "cell_type": "markdown",
   "metadata": {},
   "source": [
    "### Feature Engineering\n",
    "- create new features that might be valuable\n",
    "- transform features if needed (one-hot encoding, log transformation)\n",
    "- scale data (normalization, standardization)\n",
    "- handle dirty data (outliers, missing values)"
   ]
  },
  {
   "cell_type": "code",
   "execution_count": null,
   "metadata": {},
   "outputs": [],
   "source": []
  },
  {
   "cell_type": "markdown",
   "metadata": {},
   "source": [
    "### Split Data\n",
    "- divide the data set into a training set and testing set (70/30)\n",
    "- separate independent and dependent variables"
   ]
  },
  {
   "cell_type": "code",
   "execution_count": null,
   "metadata": {},
   "outputs": [],
   "source": []
  },
  {
   "cell_type": "markdown",
   "metadata": {},
   "source": [
    "### Create Model\n",
    "- use only training data on this step\n",
    "- fit a benchmark model to improve upon with iterations"
   ]
  },
  {
   "cell_type": "code",
   "execution_count": null,
   "metadata": {},
   "outputs": [],
   "source": []
  },
  {
   "cell_type": "markdown",
   "metadata": {},
   "source": [
    "### Make Predictions\n",
    "- use only testing data on this step\n",
    "- make predictions using the model"
   ]
  },
  {
   "cell_type": "code",
   "execution_count": null,
   "metadata": {},
   "outputs": [],
   "source": []
  },
  {
   "cell_type": "markdown",
   "metadata": {},
   "source": [
    "### Evaluate Performance\n",
    "- calculate error metrics (MAE, MSE, RMSE, MAPE)\n",
    "- calculate model comparison metrics (AIC, BIC, R2)\n",
    "- visualize residual plot (Q-Q plot, histogram of errors)"
   ]
  },
  {
   "cell_type": "code",
   "execution_count": null,
   "metadata": {},
   "outputs": [],
   "source": []
  },
  {
   "cell_type": "code",
   "execution_count": null,
   "metadata": {},
   "outputs": [],
   "source": []
  },
  {
   "cell_type": "markdown",
   "metadata": {},
   "source": [
    "### Resources\n",
    "The following webpages will help further your knowledge and understanding of linear regression.\n",
    "- https://www.ibm.com/cloud/learn/data-labeling\n",
    "- https://towardsdatascience.com/a-checklist-for-linear-regression-bd7b3e47ea91\n",
    "- https://towardsdatascience.com/machine-learning-algorithms-in-laymans-terms-part-1-d0368d769a7b\n",
    "- https://www.khanacademy.org/math/statistics-probability/describing-relationships-quantitative-data/introduction-to-trend-lines/v/fitting-a-line-to-data\n",
    "- https://www.unite.ai/what-is-linear-regression/\n",
    "- https://machinelearningmastery.com/simple-linear-regression-tutorial-for-machine-learning/\n",
    "- https://learn.datacamp.com/courses/introduction-to-linear-modeling-in-python"
   ]
  }
 ],
 "metadata": {
  "celltoolbar": "Raw Cell Format",
  "kernelspec": {
   "display_name": "Python 3",
   "language": "python",
   "name": "python3"
  },
  "language_info": {
   "codemirror_mode": {
    "name": "ipython",
    "version": 3
   },
   "file_extension": ".py",
   "mimetype": "text/x-python",
   "name": "python",
   "nbconvert_exporter": "python",
   "pygments_lexer": "ipython3",
   "version": "3.7.3"
  }
 },
 "nbformat": 4,
 "nbformat_minor": 2
}
